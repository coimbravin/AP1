{
 "cells": [
  {
   "cell_type": "code",
   "execution_count": 5,
   "id": "c9f48681",
   "metadata": {},
   "outputs": [],
   "source": [
    "alunos = {\n",
    "    'jose': [10.0, 3.7, 9.5],\n",
    "    'luis': [10.0, 4.7, 10.0],\n",
    "    'joao': [10.0, 3.0, 4.0],\n",
    "    'joana': [10.0, 5.0, 7.0],\n",
    "    'lucia': [9.0, 5.5, 6.4],\n",
    "    'vitor': [8.0, 3.0, 1.0],\n",
    "    'marcelo': [3.0, 4.0, 7.5],\n",
    "    'bruno': [8.0, 6.0, 7.5],\n",
    "    }"
   ]
  },
  {
   "cell_type": "code",
   "execution_count": 10,
   "id": "4cb6bbb9",
   "metadata": {},
   "outputs": [
    {
     "name": "stdout",
     "output_type": "stream",
     "text": [
      "{'jose': [10.0, 3.7, 9.5], 'luis': [10.0, 4.7, 10.0], 'joao': [10.0, 3.0, 4.0], 'joana': [10.0, 5.0, 7.0], 'lucia': [9.0, 5.5, 6.4], 'vitor': [8.0, 3.0, 1.0], 'marcelo': [3.0, 4.0, 7.5], 'bruno': [8.0, 6.0, 7.5]}\n"
     ]
    }
   ],
   "source": [
    "print(alunos)"
   ]
  },
  {
   "cell_type": "code",
   "execution_count": 33,
   "id": "27fccc1e",
   "metadata": {},
   "outputs": [
    {
     "name": "stdout",
     "output_type": "stream",
     "text": [
      "[10.0, 3.0, 4.0]\n",
      "5.666666666666667\n",
      "Recuperação\n"
     ]
    }
   ],
   "source": [
    "aluno = \"joao\"\n",
    "notas = alunos[aluno]\n",
    "print(notas)\n",
    "\n",
    "media = sum(notas)/len(notas)\n",
    "print(media)\n",
    "\n",
    "if media >=7:\n",
    "    print(\"Aprovada\")\n",
    "if (media <7) and (media >5):\n",
    "    print(\"Recuperação\")\n",
    "if media <=5:\n",
    "    print(\"Reprovado\") "
   ]
  },
  {
   "cell_type": "code",
   "execution_count": null,
   "id": "3ecad073",
   "metadata": {},
   "outputs": [],
   "source": []
  },
  {
   "cell_type": "code",
   "execution_count": 37,
   "id": "5b8bb2a7",
   "metadata": {},
   "outputs": [],
   "source": [
    "precos = {\n",
    "    'camiseta': 100.00,\n",
    "    'tenis': 900.00,\n",
    "    'meia': 45.00,\n",
    "    'blusa': 245.00,\n",
    "    'calça': 145.00,\n",
    "    'luva': 18.00,\n",
    "    }\n",
    "\n",
    "compras ={\n",
    "    'matheu': ['camiseta', 'luva'],\n",
    "    'luiza': ['tenis'],\n",
    "    'amanda': ['tenis', 'camiseta'],\n",
    "    'hugo': ['blusa', 'meia', 'calça'],\n",
    "    'alexandre': ['blusa', 'meia', 'calça', 'tenis'],\n",
    "}"
   ]
  },
  {
   "cell_type": "code",
   "execution_count": null,
   "id": "0f0a8bf6",
   "metadata": {},
   "outputs": [],
   "source": []
  }
 ],
 "metadata": {
  "kernelspec": {
   "display_name": "Python 3 (ipykernel)",
   "language": "python",
   "name": "python3"
  },
  "language_info": {
   "codemirror_mode": {
    "name": "ipython",
    "version": 3
   },
   "file_extension": ".py",
   "mimetype": "text/x-python",
   "name": "python",
   "nbconvert_exporter": "python",
   "pygments_lexer": "ipython3",
   "version": "3.9.12"
  }
 },
 "nbformat": 4,
 "nbformat_minor": 5
}
